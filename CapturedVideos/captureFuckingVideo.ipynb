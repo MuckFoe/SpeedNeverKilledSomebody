{
 "cells": [
  {
   "cell_type": "code",
   "execution_count": 1,
   "metadata": {},
   "outputs": [
    {
     "name": "stdout",
     "output_type": "stream",
     "text": [
      "done\n"
     ]
    }
   ],
   "source": [
    "# MIT License\n",
    "# Copyright (c) 2019 JetsonHacks\n",
    "# See license\n",
    "# Using a CSI camera (such as the Raspberry Pi Version 2) connected to a\n",
    "# NVIDIA Jetson Nano Developer Kit using OpenCV\n",
    "# Drivers for the camera and OpenCV are included in the base image\n",
    "#%matplotlib inline\n",
    "import cv2\n",
    "from IPython.display import clear_output, Image, display, HTML\n",
    "import time\n",
    "#import matplotlib.pyplot as plt\n",
    "import IPython\n",
    "import numpy as np\n",
    "#from matplotlib import pyplot as plt\n",
    "import base64\n",
    "\n",
    "from PIL import Image\n",
    "from io import StringIO\n",
    "import imutils\n",
    "\n",
    "\n",
    "left_source = \"nvarguscamerasrc sensor-id=0 sensor-mode=3 ! video/x-raw(memory:NVMM), width=(int)640, height=(int)480, format=(string)NV12, framerate=(fraction)30/1 ! nvvidconv flip-method=2 ! video/x-raw, width=(int)640, height=(int)480, format=(string)BGRx ! videoconvert ! video/x-raw, format=(string)BGR ! appsink\"\n",
    "right_source = \"nvarguscamerasrc sensor-id=1 sensor-mode=3 ! video/x-raw(memory:NVMM), width=(int)640, height=(int)480, format=(string)NV12, framerate=(fraction)30/1 ! nvvidconv flip-method=2 ! video/x-raw, width=(int)640, height=(int)480, format=(string)BGRx ! videoconvert ! video/x-raw, format=(string)BGR ! appsink\"\n",
    "\n",
    "# To flip the image, modify the flip_method parameter (0 and 2 are the most common)\n",
    "capL = cv2.VideoCapture(left_source, cv2.CAP_GSTREAMER)\n",
    "if not capL.isOpened():\n",
    "    print(\"Unable to open camera Left\")\n",
    "\n",
    "# To flip the image, modify the flip_method parameter (0 and 2 are the most common)\n",
    "capR = cv2.VideoCapture(right_source, cv2.CAP_GSTREAMER)\n",
    "if not capR.isOpened():\n",
    "    print(\"Unable to open camera Right\")\n",
    "    \n",
    "outL = cv2.VideoWriter('sampleLeft.avi', cv2.VideoWriter_fourcc('M','J','P','G'), 10, (640, 480)) \n",
    "outR = cv2.VideoWriter('sampleRight.avi', cv2.VideoWriter_fourcc('M','J','P','G'), 10, (640, 480))  \n",
    "\n",
    "\n",
    "stop_time = time.time() + 30\n",
    "\n",
    "while time.time() < stop_time:\n",
    "    clear_output(wait=True)\n",
    "\n",
    "    # Capture frame-by-frame\n",
    "    #ret0, frame0 = cap.read()\n",
    "    #ret1, frame1 = cap2.read()\n",
    "\n",
    "    # if frame is read correctly ret is True\n",
    "    #if not ret0:\n",
    "        #print(\"Can't receive frame camera 1(stream end?). Exiting ...\")\n",
    "        #break\n",
    "    #if not ret1:\n",
    "        #print(\"Can't receive frame from camera 2 (stream end?). Exiting ...\")\n",
    "        #break\n",
    "    # Our operations on the frame come here\n",
    "\n",
    "    #gray0 = cv2.cvtColor(frame0, cv2.COLOR_BGR2GRAY)\n",
    "    #gray1 = cv2.cvtColor(frame1, cv2.COLOR_BGR2GRAY)\n",
    "    #print('do we see this')\n",
    "\n",
    "    retL, frameL = capL.read()  # retL is bool, frameL is numpy.ndarray\n",
    "    retR, frameR = capR.read() \n",
    "    \n",
    "\n",
    "    outL.write(frameL)\n",
    "    outR.write(frameR)\n",
    "        \n",
    "    if cv2.waitKey(1) & 0xFF == ord('q'):\n",
    "        break\n",
    "    \n",
    "\n",
    "    #grayL = cv2.cvtColor(frameL, cv2.COLOR_BGR2GRAY)\n",
    "    #grayR = cv2.cvtColor(frameR, cv2.COLOR_BGR2GRAY)\n",
    "    \n",
    "    #image_with_edges_L = cv2.Canny(grayL , 50, 500)\n",
    "    #image_with_edges_R = cv2.Canny(grayR , 50, 500)\n",
    "    \n",
    "    #im_rgb = cv2.cvtColor(image_with_edges, cv2.COLOR_BGR2RGB)\n",
    "\n",
    "    # Display the resulting frame\n",
    "    #imgL = Image.fromarray(image_with_edges_L, 'L')\n",
    "    #imgR = Image.fromarray(image_with_edges_R, 'L')\n",
    "    \n",
    "    # Just for showing the videocap\n",
    "    #imgL = Image.fromarray(frameL, 'RGB')\n",
    "    #imgR = Image.fromarray(frameR, 'RGB')\n",
    "\n",
    "    \n",
    "\n",
    "# When everything done, release the capture\n",
    "print('done')\n",
    "capL.release()\n",
    "capR.release()\n",
    "outL.release()\n",
    "outR.release()\n",
    "cv2.destroyAllWindows()"
   ]
  },
  {
   "cell_type": "code",
   "execution_count": null,
   "metadata": {},
   "outputs": [],
   "source": [
    "  "
   ]
  },
  {
   "cell_type": "code",
   "execution_count": null,
   "metadata": {},
   "outputs": [],
   "source": []
  },
  {
   "cell_type": "code",
   "execution_count": null,
   "metadata": {},
   "outputs": [],
   "source": []
  },
  {
   "cell_type": "code",
   "execution_count": null,
   "metadata": {},
   "outputs": [],
   "source": []
  },
  {
   "cell_type": "code",
   "execution_count": null,
   "metadata": {},
   "outputs": [],
   "source": []
  }
 ],
 "metadata": {
  "kernelspec": {
   "display_name": "Python 3",
   "language": "python",
   "name": "python3"
  },
  "language_info": {
   "codemirror_mode": {
    "name": "ipython",
    "version": 3
   },
   "file_extension": ".py",
   "mimetype": "text/x-python",
   "name": "python",
   "nbconvert_exporter": "python",
   "pygments_lexer": "ipython3",
   "version": "3.6.9"
  }
 },
 "nbformat": 4,
 "nbformat_minor": 4
}

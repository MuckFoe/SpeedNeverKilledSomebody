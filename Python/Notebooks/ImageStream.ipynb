{
 "cells": [
  {
   "cell_type": "code",
   "execution_count": 1,
   "metadata": {},
   "outputs": [],
   "source": [
    "# MIT License\n",
    "# Copyright (c) 2019 JetsonHacks\n",
    "# See license\n",
    "# Using a CSI camera (such as the Raspberry Pi Version 2) connected to a\n",
    "# NVIDIA Jetson Nano Developer Kit using OpenCV\n",
    "# Drivers for the camera and OpenCV are included in the base image\n",
    "#%matplotlib inline\n",
    "import cv2\n",
    "from IPython.display import clear_output, Image, display, HTML\n",
    "import time\n",
    "#import matplotlib.pyplot as plt\n",
    "import IPython\n",
    "import numpy as np\n",
    "#from matplotlib import pyplot as plt\n",
    "import base64\n",
    "\n",
    "from PIL import Image\n",
    "from io import StringIO\n",
    "import imutils"
   ]
  },
  {
   "cell_type": "code",
   "execution_count": 2,
   "metadata": {},
   "outputs": [],
   "source": [
    "# gstreamer_pipeline returns a GStreamer pipeline for capturing from the CSI camera\n",
    "# Defaults to 1280x720 @ 60fps\n",
    "# Flip the image by setting the flip_method (most common values: 0 and 2)\n",
    "# display_width and display_height determine the size of the window on the screen\n",
    "\n",
    "\n",
    "def gstreamer_pipeline(\n",
    "    sensor_id=0,\n",
    "    sensor_mode=3,\n",
    "    capture_width=1902,\n",
    "    capture_height=1080,\n",
    "    display_width=1280,\n",
    "    display_height=720,\n",
    "    framerate=30,\n",
    "    flip_method=0,\n",
    "):\n",
    "    return (\n",
    "        \"nvarguscamerasrc sensor-id=%d sensor-mode=%d ! \"\n",
    "        \"video/x-raw(memory:NVMM), \"\n",
    "        \"width=(int)%d, height=(int)%d, \"\n",
    "        \"format=(string)NV12, framerate=(fraction)%d/1 ! \"\n",
    "        \"nvvidconv flip-method=%d ! \"\n",
    "        \"video/x-raw, width=(int)%d, height=(int)%d, format=(string)BGRx ! \"\n",
    "        \"videoconvert ! \"\n",
    "        \"video/x-raw, format=(string)BGR ! appsink\"\n",
    "        % (\n",
    "            sensor_id,\n",
    "            sensor_mode,\n",
    "            capture_width,\n",
    "            capture_height,\n",
    "            framerate,\n",
    "            flip_method,\n",
    "            display_width,\n",
    "            display_height,\n",
    "        )\n",
    "    )"
   ]
  },
  {
   "cell_type": "code",
   "execution_count": 3,
   "metadata": {},
   "outputs": [
    {
     "name": "stdout",
     "output_type": "stream",
     "text": [
      "nvarguscamerasrc sensor-id=0 sensor-mode=3 ! video/x-raw(memory:NVMM), width=(int)1902, height=(int)1080, format=(string)NV12, framerate=(fraction)30/1 ! nvvidconv flip-method=2 ! video/x-raw, width=(int)1280, height=(int)720, format=(string)BGRx ! videoconvert ! video/x-raw, format=(string)BGR ! appsink\n"
     ]
    }
   ],
   "source": [
    "# To flip the image, modify the flip_method parameter (0 and 2 are the most common)\n",
    "print(gstreamer_pipeline(flip_method=2))\n",
    "cap = cv2.VideoCapture(gstreamer_pipeline(flip_method=2, sensor_id=0, capture_width=240, capture_height=240,framerate=10, display_width=240, display_height=240), cv2.CAP_GSTREAMER)\n",
    "if not cap.isOpened():\n",
    "    print(\"Unable to open camera\")"
   ]
  },
  {
   "cell_type": "code",
   "execution_count": 4,
   "metadata": {},
   "outputs": [
    {
     "ename": "KeyboardInterrupt",
     "evalue": "",
     "output_type": "error",
     "traceback": [
      "\u001b[0;31m---------------------------------------------------------------------------\u001b[0m",
      "\u001b[0;31mKeyboardInterrupt\u001b[0m                         Traceback (most recent call last)",
      "\u001b[0;32m<ipython-input-4-095a258a5ac0>\u001b[0m in \u001b[0;36m<module>\u001b[0;34m\u001b[0m\n\u001b[1;32m     19\u001b[0m     \u001b[0;31m#print('do we see this')\u001b[0m\u001b[0;34m\u001b[0m\u001b[0;34m\u001b[0m\u001b[0;34m\u001b[0m\u001b[0m\n\u001b[1;32m     20\u001b[0m \u001b[0;34m\u001b[0m\u001b[0m\n\u001b[0;32m---> 21\u001b[0;31m     \u001b[0m_\u001b[0m\u001b[0;34m,\u001b[0m \u001b[0mframe\u001b[0m \u001b[0;34m=\u001b[0m \u001b[0mcap\u001b[0m\u001b[0;34m.\u001b[0m\u001b[0mread\u001b[0m\u001b[0;34m(\u001b[0m\u001b[0;34m)\u001b[0m\u001b[0;34m\u001b[0m\u001b[0;34m\u001b[0m\u001b[0m\n\u001b[0m\u001b[1;32m     22\u001b[0m \u001b[0;34m\u001b[0m\u001b[0m\n\u001b[1;32m     23\u001b[0m     \u001b[0;31m#frame = imutils.resize(frame, width=500)\u001b[0m\u001b[0;34m\u001b[0m\u001b[0;34m\u001b[0m\u001b[0;34m\u001b[0m\u001b[0m\n",
      "\u001b[0;31mKeyboardInterrupt\u001b[0m: "
     ]
    }
   ],
   "source": [
    "while True:\n",
    "    clear_output(wait=True)\n",
    "\n",
    "    # Capture frame-by-frame\n",
    "    #ret0, frame0 = cap.read()\n",
    "    #ret1, frame1 = cap2.read()\n",
    "\n",
    "    # if frame is read correctly ret is True\n",
    "    #if not ret0:\n",
    "        #print(\"Can't receive frame camera 1(stream end?). Exiting ...\")\n",
    "        #break\n",
    "    #if not ret1:\n",
    "        #print(\"Can't receive frame from camera 2 (stream end?). Exiting ...\")\n",
    "        #break\n",
    "    # Our operations on the frame come here\n",
    "\n",
    "    #gray0 = cv2.cvtColor(frame0, cv2.COLOR_BGR2GRAY)\n",
    "    #gray1 = cv2.cvtColor(frame1, cv2.COLOR_BGR2GRAY)\n",
    "    #print('do we see this')\n",
    "\n",
    "    _, frame = cap.read()  \n",
    "\n",
    "    #frame = imutils.resize(frame, width=500)\n",
    "    gray = cv2.cvtColor(frame, cv2.COLOR_BGR2GRAY)\n",
    "    image_with_edges = cv2.Canny(gray , 50, 500)\n",
    "    #im_rgb = cv2.cvtColor(image_with_edges, cv2.COLOR_BGR2RGB)\n",
    "\n",
    "    # Display the resulting frame\n",
    "    #img = arrayShow(frame)\n",
    "    img = Image.fromarray(image_with_edges, 'L')\n",
    "\n",
    "    display(img)\n",
    "    #cv2.imshow('frame0', gray0)\n",
    "    #cv2.imshow('frame1', gray1)\n",
    "\n",
    "#if cv2.waitKey(1) == ord('q'):\n",
    "#    break\n",
    "# When everything done, release the capture\n",
    "cap.release()\n",
    "cv2.destroyAllWindows()"
   ]
  },
  {
   "cell_type": "code",
   "execution_count": null,
   "metadata": {},
   "outputs": [],
   "source": []
  }
 ],
 "metadata": {
  "kernelspec": {
   "display_name": "Python 3",
   "language": "python",
   "name": "python3"
  },
  "language_info": {
   "codemirror_mode": {
    "name": "ipython",
    "version": 3
   },
   "file_extension": ".py",
   "mimetype": "text/x-python",
   "name": "python",
   "nbconvert_exporter": "python",
   "pygments_lexer": "ipython3",
   "version": "3.6.9"
  }
 },
 "nbformat": 4,
 "nbformat_minor": 4
}

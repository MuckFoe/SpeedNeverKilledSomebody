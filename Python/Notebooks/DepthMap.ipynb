{
 "cells": [
  {
   "cell_type": "code",
   "execution_count": null,
   "metadata": {},
   "outputs": [],
   "source": [
    "import numpy as np\n",
    "import cv2\n",
    "import argparse\n",
    "import sys\n",
    "from calibration_store import load_stereo_coefficients"
   ]
  },
  {
   "cell_type": "code",
   "execution_count": null,
   "metadata": {},
   "outputs": [],
   "source": [
    "def depth_map(imgL, imgR):\n",
    "    \"\"\" Depth map calculation. Works with SGBM and WLS. Need rectified images, returns depth map ( left to right disparity ) \"\"\"\n",
    "    # SGBM Parameters -----------------\n",
    "    window_size = 3  # wsize default 3; 5; 7 for SGBM reduced size image; 15 for SGBM full size image (1300px and above); 5 Works nicely\n",
    "\n",
    "    left_matcher = cv2.StereoSGBM_create(\n",
    "        minDisparity=-1,\n",
    "        numDisparities=5*16,  # max_disp has to be dividable by 16 f. E. HH 192, 256\n",
    "        blockSize=window_size,\n",
    "        P1=8 * 3 * window_size,\n",
    "        # wsize default 3; 5; 7 for SGBM reduced size image; 15 for SGBM full size image (1300px and above); 5 Works nicely\n",
    "        P2=32 * 3 * window_size,\n",
    "        disp12MaxDiff=12,\n",
    "        uniquenessRatio=10,\n",
    "        speckleWindowSize=50,\n",
    "        speckleRange=32,\n",
    "        preFilterCap=63,\n",
    "        mode=cv2.STEREO_SGBM_MODE_SGBM_3WAY\n",
    "    )\n",
    "    right_matcher = cv2.ximgproc.createRightMatcher(left_matcher)\n",
    "    # FILTER Parameters\n",
    "    lmbda = 80000\n",
    "    sigma = 1.3\n",
    "    visual_multiplier = 6\n",
    "\n",
    "    wls_filter = cv2.ximgproc.createDisparityWLSFilter(matcher_left=left_matcher)\n",
    "    wls_filter.setLambda(lmbda)\n",
    "\n",
    "    wls_filter.setSigmaColor(sigma)\n",
    "    displ = left_matcher.compute(imgL, imgR)  # .astype(np.float32)/16\n",
    "    dispr = right_matcher.compute(imgR, imgL)  # .astype(np.float32)/16\n",
    "    displ = np.int16(displ)\n",
    "    dispr = np.int16(dispr)\n",
    "    filteredImg = wls_filter.filter(displ, imgL, None, dispr)  # important to put \"imgL\" here!!!\n",
    "\n",
    "    filteredImg = cv2.normalize(src=filteredImg, dst=filteredImg, beta=0, alpha=255, norm_type=cv2.NORM_MINMAX);\n",
    "    filteredImg = np.uint8(filteredImg)\n",
    "\n",
    "    return filteredImg"
   ]
  },
  {
   "cell_type": "code",
   "execution_count": null,
   "metadata": {},
   "outputs": [],
   "source": [
    "camera0 = Camera.instance(sensor_id=0, flip_method=2, width=720, height=480)\n",
    "\n",
    "image0 = widgets.Image(format='jpeg', width=720, height=480)\n",
    "\n",
    "camera_link0 = traitlets.dlink((camera0, 'value'), (image0, 'value'), transform=bgr8_to_jpeg)"
   ]
  },
  {
   "cell_type": "code",
   "execution_count": null,
   "metadata": {},
   "outputs": [],
   "source": [
    "camera1 = Camera.instance(sensor_id=1, flip_method=2, width=720, height=480)\n",
    "\n",
    "image1 = widgets.Image(format='jpeg', width=720, height=480)  # this width and height doesn't necessarily have to match the camera\n",
    "\n",
    "camera_link1 = traitlets.dlink((camera1, 'value'), (image1, 'value'), transform=bgr8_to_jpeg)"
   ]
  },
  {
   "cell_type": "code",
   "execution_count": null,
   "metadata": {},
   "outputs": [],
   "source": [
    "calibration_file = 'stereo.yml'\n",
    "camera_stream = True\n",
    "left_cam = \n",
    "right_cam = \n",
    "\n",
    "\n",
    "K1, D1, K2, D2, R, T, E, F, R1, R2, P1, P2, Q = load_stereo_coefficients(calibration_file)  # Get cams params\n",
    "\n",
    "# Change the resolution in need\n",
    "cap_right.set(cv2.CAP_PROP_FRAME_WIDTH, 640)  # float\n",
    "cap_right.set(cv2.CAP_PROP_FRAME_HEIGHT, 480)  # float\n",
    "\n",
    "cap_left.set(cv2.CAP_PROP_FRAME_WIDTH, 640)  # float\n",
    "cap_left.set(cv2.CAP_PROP_FRAME_HEIGHT, 480)  # float\n",
    "\n",
    "while True:  # Loop until 'q' pressed or stream ends\n",
    "\n",
    "    # Undistortion and Rectification part!\n",
    "    leftMapX, leftMapY = cv2.initUndistortRectifyMap(K1, D1, R1, P1, (width, height), cv2.CV_32FC1)\n",
    "    left_rectified = cv2.remap(leftFrame, leftMapX, leftMapY, cv2.INTER_LINEAR, cv2.BORDER_CONSTANT)\n",
    "    rightMapX, rightMapY = cv2.initUndistortRectifyMap(K2, D2, R2, P2, (width, height), cv2.CV_32FC1)\n",
    "    right_rectified = cv2.remap(rightFrame, rightMapX, rightMapY, cv2.INTER_LINEAR, cv2.BORDER_CONSTANT)\n",
    "\n",
    "    # We need grayscale for disparity map.\n",
    "    gray_left = cv2.cvtColor(left_rectified, cv2.COLOR_BGR2GRAY)\n",
    "    gray_right = cv2.cvtColor(right_rectified, cv2.COLOR_BGR2GRAY)\n",
    "\n",
    "    disparity_image = depth_map(gray_left, gray_right)  # Get the disparity map\n",
    "\n",
    "    cv2.imshow('Disparity', disparity_image)\n",
    "\n",
    "    if cv2.waitKey(1) & 0xFF == ord('q'):  # Get key to stop stream. Press q for exit\n",
    "        break\n",
    "\n",
    "        \n",
    "def display_canny(camera_image):\n",
    "    image = np.copy(camera_image)\n",
    "    gray = cv2.cvtColor(camera.value, cv2.COLOR_BGR2GRAY)\n",
    "    image_with_edges = cv2.Canny(gray , 50, 500)\n",
    "    jpeg_image = bgr8_to_jpeg(image_with_edges)\n",
    "    return jpeg_image"
   ]
  },
  {
   "cell_type": "code",
   "execution_count": null,
   "metadata": {},
   "outputs": [],
   "source": [
    "#image_widget = widgets.Image(format='jpeg', width=224, height=224)\n",
    "target_widget = widgets.Image(format='jpeg', width=224, height=224)\n",
    "\n",
    "#traitlets.dlink((camera, 'value'), (image_widget, 'value'), transform=bgr8_to_jpeg)\n",
    "traitlets.dlink((camera, 'value'), (target_widget, 'value'), transform=depth_map)\n",
    "\n",
    "#display(widgets.HBox([image_widget, target_widget]))\n",
    "display(target_widget)\n"
   ]
  }
 ],
 "metadata": {
  "kernelspec": {
   "display_name": "Python 3",
   "language": "python",
   "name": "python3"
  },
  "language_info": {
   "codemirror_mode": {
    "name": "ipython",
    "version": 3
   },
   "file_extension": ".py",
   "mimetype": "text/x-python",
   "name": "python",
   "nbconvert_exporter": "python",
   "pygments_lexer": "ipython3",
   "version": "3.6.9"
  }
 },
 "nbformat": 4,
 "nbformat_minor": 4
}

{
 "cells": [
  {
   "cell_type": "code",
   "execution_count": 1,
   "metadata": {},
   "outputs": [],
   "source": [
    "import traitlets\n",
    "import ipywidgets.widgets as widgets\n",
    "from IPython.display import display\n",
    "from jetbot import Camera, bgr8_to_jpeg\n",
    "import os"
   ]
  },
  {
   "cell_type": "code",
   "execution_count": 2,
   "metadata": {},
   "outputs": [
    {
     "name": "stdout",
     "output_type": "stream",
     "text": [
      "nvarguscamerasrc sensor-id=0 sensor-mode=3 ! video/x-raw(memory:NVMM), width=(int)816, height=(int)616, format=(string)NV12, framerate=(fraction)30/1 ! nvvidconv flip-method=2 ! video/x-raw, width=(int)720, height=(int)480, format=(string)BGRx ! videoconvert ! video/x-raw, format=(string)BGR ! appsink\n"
     ]
    }
   ],
   "source": [
    "camera0 = Camera.instance(sensor_id=0, flip_method=2, width=720, height=480)\n",
    "\n",
    "image0 = widgets.Image(format='jpeg', width=720, height=480)\n",
    "\n",
    "camera_link0 = traitlets.dlink((camera0, 'value'), (image0, 'value'), transform=bgr8_to_jpeg)\n",
    "#display(image0)"
   ]
  },
  {
   "cell_type": "code",
   "execution_count": 3,
   "metadata": {},
   "outputs": [
    {
     "name": "stdout",
     "output_type": "stream",
     "text": [
      "nvarguscamerasrc sensor-id=1 sensor-mode=3 ! video/x-raw(memory:NVMM), width=(int)816, height=(int)616, format=(string)NV12, framerate=(fraction)30/1 ! nvvidconv flip-method=2 ! video/x-raw, width=(int)720, height=(int)480, format=(string)BGRx ! videoconvert ! video/x-raw, format=(string)BGR ! appsink\n"
     ]
    }
   ],
   "source": [
    "camera1 = Camera.instance(sensor_id=1, flip_method=2, width=720, height=480)\n",
    "\n",
    "image1 = widgets.Image(format='jpeg', width=720, height=480)  # this width and height doesn't necessarily have to match the camera\n",
    "\n",
    "camera_link1 = traitlets.dlink((camera1, 'value'), (image1, 'value'), transform=bgr8_to_jpeg)\n",
    "#display(image1)"
   ]
  },
  {
   "cell_type": "code",
   "execution_count": 4,
   "metadata": {},
   "outputs": [],
   "source": [
    "button_layout = widgets.Layout(width='128px', height='64px')\n",
    "free_button = widgets.Button(description='take photos', button_style='success', layout=button_layout)"
   ]
  },
  {
   "cell_type": "code",
   "execution_count": 6,
   "metadata": {},
   "outputs": [],
   "source": [
    "cam1dir = './calibrationImages/cam1'\n",
    "cam2dir = './calibrationImages/cam2'"
   ]
  },
  {
   "cell_type": "code",
   "execution_count": 7,
   "metadata": {},
   "outputs": [],
   "source": [
    "def save_snapshot_cam1(item):\n",
    "    image_path = os.path.join(cam1dir, 'cam1_'+ str(item) + '.jpg')\n",
    "    with open(image_path, 'wb') as f:\n",
    "        f.write(image0.value)\n",
    "        \n",
    "def save_snapshot_cam2(item):\n",
    "    image_path = os.path.join(cam2dir, 'cam2_'+ str(item) + '.jpg')\n",
    "    with open(image_path, 'wb') as f:\n",
    "        f.write(image1.value)\n",
    "        \n",
    "def save_free():\n",
    "    save_snapshot_cam1(len(os.listdir(cam1dir)))\n",
    "    save_snapshot_cam2(len(os.listdir(cam2dir)))"
   ]
  },
  {
   "cell_type": "code",
   "execution_count": 8,
   "metadata": {},
   "outputs": [],
   "source": [
    "# attach the callbacks, we use a 'lambda' function to ignore the\n",
    "# parameter that the on_click event would provide to our function\n",
    "# because we don't need it.\n",
    "free_button.on_click(lambda x: save_free())"
   ]
  },
  {
   "cell_type": "code",
   "execution_count": null,
   "metadata": {},
   "outputs": [],
   "source": [
    "display(image0)\n",
    "display(image1)\n",
    "display(widgets.HBox([free_button]))"
   ]
  },
  {
   "cell_type": "code",
   "execution_count": null,
   "metadata": {},
   "outputs": [],
   "source": [
    "!zip -r -q calibrationImages.zip calibrationImages"
   ]
  }
 ],
 "metadata": {
  "kernelspec": {
   "display_name": "Python 3",
   "language": "python",
   "name": "python3"
  },
  "language_info": {
   "codemirror_mode": {
    "name": "ipython",
    "version": 3
   },
   "file_extension": ".py",
   "mimetype": "text/x-python",
   "name": "python",
   "nbconvert_exporter": "python",
   "pygments_lexer": "ipython3",
   "version": "3.6.9"
  }
 },
 "nbformat": 4,
 "nbformat_minor": 4
}

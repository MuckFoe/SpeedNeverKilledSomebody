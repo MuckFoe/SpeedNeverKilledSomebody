{
 "cells": [
  {
   "cell_type": "code",
   "execution_count": 1,
   "metadata": {},
   "outputs": [],
   "source": [
    "import numpy as np\n",
    "import cv2\n",
    "import glob"
   ]
  },
  {
   "cell_type": "code",
   "execution_count": 2,
   "metadata": {},
   "outputs": [],
   "source": [
    "# termination criteria\n",
    "criteria = (cv2.TERM_CRITERIA_EPS + cv2.TERM_CRITERIA_MAX_ITER, 30, 0.001)"
   ]
  },
  {
   "cell_type": "code",
   "execution_count": 3,
   "metadata": {},
   "outputs": [],
   "source": [
    "def calibrate(dirpath, prefix, image_format, square_size, width=9, height=6):\n",
    "    \"\"\" Apply camera calibration operation for images in the given directory path. \"\"\"\n",
    "    # prepare object points, like (0,0,0), (1,0,0), (2,0,0) ....,(8,6,0)\n",
    "    objp = np.zeros((height*width, 3), np.float32)\n",
    "    objp[:, :2] = np.mgrid[0:width, 0:height].T.reshape(-1, 2)\n",
    "\n",
    "    objp = objp * square_size\n",
    "\n",
    "    # Arrays to store object points and image points from all the images.\n",
    "    objpoints = []  # 3d point in real world space\n",
    "    imgpoints = []  # 2d points in image plane.\n",
    "\n",
    "    if dirpath[-1:] == '/':\n",
    "        dirpath = dirpath[:-1]\n",
    "\n",
    "    images = glob.glob(dirpath+'/' + prefix + '*.' + image_format)\n",
    "\n",
    "    for fname in images:\n",
    "        img = cv2.imread(fname)\n",
    "        gray = cv2.cvtColor(img, cv2.COLOR_BGR2GRAY)\n",
    "\n",
    "        # Find the chess board corners\n",
    "        ret, corners = cv2.findChessboardCorners(gray, (width, height), None)\n",
    "\n",
    "        # If found, add object points, image points (after refining them)\n",
    "        if ret:\n",
    "            objpoints.append(objp)\n",
    "\n",
    "            corners2 = cv2.cornerSubPix(gray, corners, (11, 11), (-1, -1), criteria)\n",
    "            imgpoints.append(corners2)\n",
    "\n",
    "            # Draw and display the corners\n",
    "            img = cv2.drawChessboardCorners(img, (width, height), corners2, ret)\n",
    "\n",
    "    ret, mtx, dist, rvecs, tvecs = cv2.calibrateCamera(objpoints, imgpoints, gray.shape[::-1], None, None)\n",
    "\n",
    "    return [ret, mtx, dist, rvecs, tvecs]"
   ]
  },
  {
   "cell_type": "code",
   "execution_count": 4,
   "metadata": {},
   "outputs": [],
   "source": [
    "def save_coefficients(mtx, dist, path):\n",
    "    \"\"\" Save the camera matrix and the distortion coefficients to given path/file. \"\"\"\n",
    "    cv_file = cv2.FileStorage(path, cv2.FILE_STORAGE_WRITE)\n",
    "    cv_file.write(\"K\", mtx)\n",
    "    cv_file.write(\"D\", dist)\n",
    "    # note you *release* you don't close() a FileStorage object\n",
    "    cv_file.release()"
   ]
  },
  {
   "cell_type": "code",
   "execution_count": 5,
   "metadata": {},
   "outputs": [],
   "source": [
    "def load_coefficients(path):\n",
    "    \"\"\" Loads camera matrix and distortion coefficients. \"\"\"\n",
    "    # FILE_STORAGE_READ\n",
    "    cv_file = cv2.FileStorage(path, cv2.FILE_STORAGE_READ)\n",
    "\n",
    "    # note we also have to specify the type to retrieve other wise we only get a\n",
    "    # FileNode object back instead of a matrix\n",
    "    camera_matrix = cv_file.getNode(\"K\").mat()\n",
    "    dist_matrix = cv_file.getNode(\"D\").mat()\n",
    "\n",
    "    cv_file.release()\n",
    "    return [camera_matrix, dist_matrix]"
   ]
  },
  {
   "cell_type": "code",
   "execution_count": 7,
   "metadata": {},
   "outputs": [
    {
     "name": "stdout",
     "output_type": "stream",
     "text": [
      "Calibration is finished. RMS:  0.3823768977847527\n"
     ]
    }
   ],
   "source": [
    "image_dir='./calibrationImages/cam1'\n",
    "image_format='jpg'\n",
    "prefix='cam1_'\n",
    "square_size=2.0\n",
    "save_file='cam1.yml'\n",
    "width=9\n",
    "height=6\n",
    "\n",
    "ret, mtx, dist, rvecs, tvecs = calibrate(image_dir, prefix, image_format, square_size, width, height)\n",
    "save_coefficients(mtx, dist, save_file)\n",
    "print(\"Calibration is finished. RMS: \", ret)"
   ]
  }
 ],
 "metadata": {
  "kernelspec": {
   "display_name": "Python 3",
   "language": "python",
   "name": "python3"
  },
  "language_info": {
   "codemirror_mode": {
    "name": "ipython",
    "version": 3
   },
   "file_extension": ".py",
   "mimetype": "text/x-python",
   "name": "python",
   "nbconvert_exporter": "python",
   "pygments_lexer": "ipython3",
   "version": "3.6.9"
  }
 },
 "nbformat": 4,
 "nbformat_minor": 4
}
